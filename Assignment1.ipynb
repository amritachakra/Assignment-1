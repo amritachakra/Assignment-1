{
 "cells": [
  {
   "cell_type": "markdown",
   "id": "29427f9d",
   "metadata": {},
   "source": [
    "\n",
    "Q1Ans: values are: 'hello', -87.8, 6\n",
    "       expression are: *, -, /, +\n"
   ]
  },
  {
   "cell_type": "markdown",
   "id": "5e6b9ea1",
   "metadata": {},
   "source": [
    "Q2Ans: Variable is used to store data and information where as string is a type of data which we stored in a variable. For e.g"
   ]
  },
  {
   "cell_type": "code",
   "execution_count": 1,
   "id": "67225ddb",
   "metadata": {},
   "outputs": [],
   "source": [
    "a= 'Amrita'"
   ]
  },
  {
   "cell_type": "code",
   "execution_count": 2,
   "id": "3d429644",
   "metadata": {},
   "outputs": [
    {
     "data": {
      "text/plain": [
       "str"
      ]
     },
     "execution_count": 2,
     "metadata": {},
     "output_type": "execute_result"
    }
   ],
   "source": [
    "type(a)"
   ]
  },
  {
   "cell_type": "markdown",
   "id": "46b941eb",
   "metadata": {},
   "source": [
    "so, a is my variable and 'Amrita is string\n"
   ]
  },
  {
   "cell_type": "markdown",
   "id": "8ba0b614",
   "metadata": {},
   "source": [
    "Q3Ans) Data type is an important concept. variables can store data of different datatypes.\n",
    "Three different data types are:\n",
    "(i) int : this is a data type which is used to store positive and negative integers like -9,8,7,0\n",
    "(ii) float: this is a data type which is used to storedecimal numbers. like 9.87,-8.765\n",
    "(iii) str(string): this is a data type which is used to store characters. string is declared within' ' or \" \"  \n"
   ]
  },
  {
   "cell_type": "code",
   "execution_count": 3,
   "id": "7d743bcb",
   "metadata": {},
   "outputs": [
    {
     "data": {
      "text/plain": [
       "int"
      ]
     },
     "execution_count": 3,
     "metadata": {},
     "output_type": "execute_result"
    }
   ],
   "source": [
    "a=9\n",
    "type(a)"
   ]
  },
  {
   "cell_type": "code",
   "execution_count": 4,
   "id": "4a7b6d5f",
   "metadata": {},
   "outputs": [
    {
     "data": {
      "text/plain": [
       "float"
      ]
     },
     "execution_count": 4,
     "metadata": {},
     "output_type": "execute_result"
    }
   ],
   "source": [
    "b=8.97\n",
    "type(b)"
   ]
  },
  {
   "cell_type": "code",
   "execution_count": 5,
   "id": "cd0a7950",
   "metadata": {},
   "outputs": [
    {
     "data": {
      "text/plain": [
       "str"
      ]
     },
     "execution_count": 5,
     "metadata": {},
     "output_type": "execute_result"
    }
   ],
   "source": [
    "p='priya'\n",
    "type(p)"
   ]
  },
  {
   "cell_type": "markdown",
   "id": "a070afbd",
   "metadata": {},
   "source": [
    "Q4 Ans: An expression made up of operators and operands that operates to produce some other values.An expression is evaluated as per the order of the operators"
   ]
  },
  {
   "cell_type": "markdown",
   "id": "fd9dcbc8",
   "metadata": {},
   "source": [
    "Q5 Ans: An expression made up of operators and operands that operates to produce some other values. \n",
    "on the other hand, are everything that can make up a line (or several lines) of Python code are called statements.\n",
    "every expression is a statement where as every statement is not an expression."
   ]
  },
  {
   "cell_type": "markdown",
   "id": "cadd608a",
   "metadata": {},
   "source": [
    "Q6 Ans bacon value will be 22 "
   ]
  },
  {
   "cell_type": "code",
   "execution_count": 6,
   "id": "6d0be2ef",
   "metadata": {},
   "outputs": [
    {
     "data": {
      "text/plain": [
       "23"
      ]
     },
     "execution_count": 6,
     "metadata": {},
     "output_type": "execute_result"
    }
   ],
   "source": [
    "bacon=22\n",
    "bacon+1"
   ]
  },
  {
   "cell_type": "code",
   "execution_count": 7,
   "id": "e0455204",
   "metadata": {},
   "outputs": [
    {
     "data": {
      "text/plain": [
       "22"
      ]
     },
     "execution_count": 7,
     "metadata": {},
     "output_type": "execute_result"
    }
   ],
   "source": [
    "bacon"
   ]
  },
  {
   "cell_type": "markdown",
   "id": "655532bc",
   "metadata": {},
   "source": [
    "Q7 ans"
   ]
  },
  {
   "cell_type": "code",
   "execution_count": 8,
   "id": "6887d84c",
   "metadata": {},
   "outputs": [
    {
     "data": {
      "text/plain": [
       "'spamspamspam'"
      ]
     },
     "execution_count": 8,
     "metadata": {},
     "output_type": "execute_result"
    }
   ],
   "source": [
    "'spam'+'spamspam'"
   ]
  },
  {
   "cell_type": "code",
   "execution_count": 9,
   "id": "1f933ce4",
   "metadata": {},
   "outputs": [
    {
     "data": {
      "text/plain": [
       "'spamspamspam'"
      ]
     },
     "execution_count": 9,
     "metadata": {},
     "output_type": "execute_result"
    }
   ],
   "source": [
    "'spam'*3"
   ]
  },
  {
   "cell_type": "markdown",
   "id": "dd00303d",
   "metadata": {},
   "source": [
    "Q8 Ans: varaible name in python can contain alphabets Ato z in upper case as well as lowercase , digits (0-9) and the underscore character but the first character of the variable can not be a digit \n",
    "that is why eggs is an valid variable name where as 100 is invalid.\n"
   ]
  },
  {
   "cell_type": "markdown",
   "id": "77503991",
   "metadata": {},
   "source": [
    "Q9 Ans: function can be used to get the integer is int().\n",
    "function can be used to get the floating point number is float().\n",
    "function can be used to get the string is str()."
   ]
  },
  {
   "cell_type": "markdown",
   "id": "0fec2444",
   "metadata": {},
   "source": [
    "Q10 Ans:99 is an integer, and only string can be combined with another string with a + operator.\n",
    "that's why it is showing errror."
   ]
  },
  {
   "cell_type": "code",
   "execution_count": 10,
   "id": "33d6e2dd",
   "metadata": {},
   "outputs": [
    {
     "ename": "TypeError",
     "evalue": "can only concatenate str (not \"int\") to str",
     "output_type": "error",
     "traceback": [
      "\u001b[1;31m---------------------------------------------------------------------------\u001b[0m",
      "\u001b[1;31mTypeError\u001b[0m                                 Traceback (most recent call last)",
      "Input \u001b[1;32mIn [10]\u001b[0m, in \u001b[0;36m<cell line: 1>\u001b[1;34m()\u001b[0m\n\u001b[1;32m----> 1\u001b[0m \u001b[38;5;124;43m'\u001b[39;49m\u001b[38;5;124;43mI have eaten\u001b[39;49m\u001b[38;5;124;43m'\u001b[39;49m\u001b[38;5;241;43m+\u001b[39;49m\u001b[38;5;241;43m99\u001b[39;49m\u001b[38;5;241m+\u001b[39m \u001b[38;5;124m'\u001b[39m\u001b[38;5;124mburritos\u001b[39m\u001b[38;5;124m'\u001b[39m\n",
      "\u001b[1;31mTypeError\u001b[0m: can only concatenate str (not \"int\") to str"
     ]
    }
   ],
   "source": [
    "'I have eaten'+99+ 'burritos'"
   ]
  },
  {
   "cell_type": "code",
   "execution_count": null,
   "id": "833c2d0f",
   "metadata": {},
   "outputs": [],
   "source": []
  }
 ],
 "metadata": {
  "kernelspec": {
   "display_name": "Python 3 (ipykernel)",
   "language": "python",
   "name": "python3"
  },
  "language_info": {
   "codemirror_mode": {
    "name": "ipython",
    "version": 3
   },
   "file_extension": ".py",
   "mimetype": "text/x-python",
   "name": "python",
   "nbconvert_exporter": "python",
   "pygments_lexer": "ipython3",
   "version": "3.9.12"
  }
 },
 "nbformat": 4,
 "nbformat_minor": 5
}
